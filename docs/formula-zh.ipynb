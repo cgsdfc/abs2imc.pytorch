{
 "cells": [
  {
   "attachments": {},
   "cell_type": "markdown",
   "id": "0b9ee36f",
   "metadata": {},
   "source": [
    "# 基于锚点稀疏子空间学习的非完整多视角聚类"
   ]
  },
  {
   "attachments": {},
   "cell_type": "markdown",
   "id": "3ab84fdf",
   "metadata": {},
   "source": [
    "\n",
    "![image.png](image.png)\n"
   ]
  },
  {
   "attachments": {},
   "cell_type": "markdown",
   "id": "0a97f4c1",
   "metadata": {},
   "source": [
    "### 输入\n",
    "\n",
    "- $ {X}^{(v)} \\in R^{ n \\times d^{(v)} } $ 为每个视角的所有样本（不存在的样本标记为NaN）；\n",
    "- $\\bar{X}^{(v)} = [A^{(v)} ; U^{(v)}] \\in R^{ n^{(v)} \\times d^{(v)} }$ 为去掉不存在的样本并按照完整子集在前、非完整子集在后排列的数据；\n",
    "- $W^{(v)} \\in \\{0,1\\}^{n \\times n^{(v)}} $ 为缺失指示矩阵；\n",
    "- $\\lambda$ 为损失函数中的权衡参数，是超参数；"
   ]
  },
  {
   "attachments": {},
   "cell_type": "markdown",
   "id": "1e702925",
   "metadata": {},
   "source": [
    "### 符号含义\n",
    "\n",
    "- $A^{(v)} \\in R^{n_a \\times d^{(v)}}$ 为每个视角的完整子集，即在所有视角都存在的样本，其样本数为 $n_a$；\n",
    "- $U^{(v)} \\in R^{n^{(v)}_u \\times d^{(v)}}$ 为每个视角的非完整子集，即不是在所有视角都存在的样本，其样本数为 $n^{(v)}_u, v = 1,2,\\cdots,V$；\n",
    "- $n^{(v)}$ 为每个视角的存在样本数量；\n",
    "- $n_a$ 为完整子集的样本数量；\n",
    "- $n^{(v)}_u$ 为非完整子集在每个视角的样本数量；\n",
    "- $d^{(v)}$ 为和每个视角的原始特征维度；\n",
    "- $n$ 为样本总数量；\n",
    "- $V$ 为视角数量；\n",
    "- $c$ 为类簇数量；"
   ]
  },
  {
   "attachments": {},
   "cell_type": "markdown",
   "id": "07b217d5",
   "metadata": {},
   "source": [
    "$$\n",
    "W^{(v)}_{i,j} = \\begin{cases}\n",
    "1\\text{, if the $i$-th sample is the $j$-th sample presented in $v$-th view}; \\\\\n",
    "0\\text{, otherwise}.\n",
    "\\end{cases}\n",
    "$$"
   ]
  },
  {
   "attachments": {},
   "cell_type": "markdown",
   "id": "f2d2a7e9",
   "metadata": {},
   "source": [
    "$$\n",
    "{X}^{(v)} = W^{(v)} \\bar{X}^{(v)}\n",
    "$$"
   ]
  },
  {
   "attachments": {},
   "cell_type": "markdown",
   "id": "49982b86",
   "metadata": {},
   "source": [
    "$$\n",
    "n^{(v)} = \\left( n_a + n^{(v)}_u \\right) < n\\\\\n",
    "v = 1,2,\\cdots,V\n",
    "$$"
   ]
  },
  {
   "attachments": {},
   "cell_type": "markdown",
   "id": "ff4d0e61",
   "metadata": {},
   "source": [
    "### 输出\n",
    "\n",
    "- $ Z \\in R^{ n \\times d^{(v)} } $ 方法学到的共识完整锚点图；\n",
    "- $ C \\in \\{0,1\\}^{n \\times c} $ 是聚类结果；"
   ]
  },
  {
   "attachments": {},
   "cell_type": "markdown",
   "id": "ffa859c1",
   "metadata": {},
   "source": [
    "## 完整子集的视角间共识稀疏子空间矩阵的学习\n",
    "\n",
    "由于完整子集中每个样本都拥有全部的视角，因此学到的$Z_a$是视角间的共识子空间，融合了不同视角的信息。"
   ]
  },
  {
   "attachments": {},
   "cell_type": "markdown",
   "id": "f55f7281",
   "metadata": {},
   "source": [
    "$$\n",
    "\\min \\sum_{v=1}^V \\left\\Vert Z_a^{(v)} A^{(v)} - A^{(v)} \\right\\Vert _F^2 + \\lambda \\left\\Vert Z_a^{(v)} - Z_a \\right\\Vert _F^2 \\\\\n",
    "\\text{s.t. } Z_a^{(v)} \\geq 0, Z_a^{(v)} 1 = 1, diag(Z_a^{(v)}) = 0 \\\\\n",
    "             Z_a \\geq 0, Z_a 1 = 1, diag(Z_a) = 0 \\\\\n",
    "$$"
   ]
  },
  {
   "attachments": {},
   "cell_type": "markdown",
   "id": "b7b32501",
   "metadata": {},
   "source": [
    "- $A^{(v)}$ 为视角$v$的完整子集；\n",
    "- $Z_a^{(v)} \\in R^{n_a \\times n_a} $ 为视角$v$的完整子集上利用自表示性质构建的子空间矩阵，即完整子集的视角专属子空间矩阵；\n",
    "- $Z_a \\in R^{n_a \\times n_a}$ 为完整子集的共识子空间矩阵，即 $\\{Z_a^{(v)}\\}_{v=1}^V$ 的共同的质心；"
   ]
  },
  {
   "attachments": {},
   "cell_type": "markdown",
   "id": "296a52b8",
   "metadata": {},
   "source": [
    "## 非完整子集的视角内锚点子空间矩阵的学习\n",
    "\n",
    "- 非完整子集的各个视角不能完全对齐，无法学习视角间的共识子空间，\n",
    "- 但在每个视角内可以用完整子集 $A^{(v)}$ 来线性表示对应的非完整子集 $U^{(v)}$，以学到视角内锚点子空间矩阵 $Z_u^{(v)} \\in R^{{n_u}^{(v)} \\times n_a} $。\n",
    "- 然后，在每个视角 $v$ 内拼接两个子空间矩阵 $Z_a, Z_u^{(v)}$，就能得到该视角的所有存在样本到完整样本的锚点子空间矩阵 $Z^{(v)} \\in R^{{n}^{(v)} \\times n_a} $。"
   ]
  },
  {
   "attachments": {},
   "cell_type": "markdown",
   "id": "9b8c6d83",
   "metadata": {},
   "source": [
    "$$\n",
    "\\min \\sum_{v=1}^V \\left\\Vert Z_u^{(v)} A^{(v)} - U^{(v)} \\right\\Vert _F^2 \\\\\n",
    "\\text{s.t. } Z_u^{(v)} \\geq 0, Z_u^{(v)} 1 = 1 \\\\\n",
    "$$"
   ]
  },
  {
   "attachments": {},
   "cell_type": "markdown",
   "id": "26e8b902",
   "metadata": {},
   "source": [
    "## 基于锚点图稀疏子空间的非完整多视角聚类的目标函数\n",
    "\n",
    "将上述的1. 完整子集的视角间共识稀疏子空间矩阵的学习；2. 非完整子集的视角内锚点子空间矩阵的学习；放入统一框架中进行优化。"
   ]
  },
  {
   "attachments": {},
   "cell_type": "markdown",
   "id": "5e20b384",
   "metadata": {},
   "source": [
    "$$\n",
    "\\min \\sum_{v=1}^V \\left\\{ \\left\\Vert Z_a^{(v)} A^{(v)} - A^{(v)} \\right\\Vert _F^2 +\n",
    "\\lambda \\left\\Vert Z_a^{(v)} - Z_a \\right\\Vert _F^2 +\n",
    "\\left\\Vert Z_u^{(v)} A^{(v)} - U^{(v)} \\right\\Vert _F^2 \\right\\} \\\\\n",
    "\\text{s.t. } Z_a^{(v)} \\geq 0, Z_a^{(v)} 1 = 1, diag(Z_a^{(v)}) = 0 \\\\\n",
    "             Z_a \\geq 0, Z_a 1 = 1, diag(Z_a) = 0 \\\\\n",
    "             Z_u^{(v)} \\geq 0, Z_u^{(v)} 1 = 1\n",
    "$$"
   ]
  },
  {
   "attachments": {},
   "cell_type": "markdown",
   "id": "d2537890",
   "metadata": {},
   "source": [
    "## 等价的无约束损失函数以及PyTorch优化\n",
    "\n",
    "为了便于使用PyTorch的基于自动微分的优化算法，加快优化效率，将上述目标函数等价改写为一个等价的无约束损失函数。"
   ]
  },
  {
   "attachments": {},
   "cell_type": "markdown",
   "id": "9b8f92cc",
   "metadata": {},
   "source": [
    "- 用softmax激活函数$\\sigma(\\cdot)$实现约束条件 $Z \\geq 0, Z 1 = 1$，即$Z$的元素大于等于0且每行元素之和都为1；\n",
    "- 用掩码矩阵 $M_n = 1 - I_n$（$n$为矩阵的阶数） 实现约束条件$diag(Z)=0$，即$Z$的对角线元素为0；\n",
    "- 使用均方误差损失 $\\mathcal{L}_{MSE}(X, Y)$ 来实现F范数误差，即$\\left\\Vert X - Y \\right\\Vert_F^2$；\n",
    "- 待求的子空间矩阵 $\\{Z_a,Z_a^{(v)},Z_u^{(v)}\\}_{v=1}^V$ 分别用可学习参数 $\\{\\Theta_a,\\Theta_a^{(v)},\\Theta_u^{(v)}\\}_{v=1}^V$ 表示；\n",
    "- 使用Adam优化算法最小化$\\mathcal{L}$即可；"
   ]
  },
  {
   "attachments": {},
   "cell_type": "markdown",
   "id": "aa91558a",
   "metadata": {},
   "source": [
    "$$\n",
    "\\mathcal{L} = \\sum_{v=1}^V \\left\\{ \\mathcal{L}_{MSE} \\left( \\sigma(M_{n_a} \\Theta_a^{(v)}) A^{(v)}, A^{(v)} \\right) +\n",
    "\\lambda \\mathcal{L}_{MSE} \\left( \\Theta_a^{(v)} , \\Theta_a \\right) +\n",
    "\\mathcal{L}_{MSE} \\left( \\sigma(\\Theta_u^{(v)}) , U^{(v)} \\right)\n",
    "\\right\\}\n",
    "$$"
   ]
  },
  {
   "attachments": {},
   "cell_type": "markdown",
   "id": "8f542ed2",
   "metadata": {},
   "source": [
    "$$\n",
    "\n",
    "$$"
   ]
  },
  {
   "attachments": {},
   "cell_type": "markdown",
   "id": "5e8781d9",
   "metadata": {},
   "source": [
    "## 实现细节 Implementation Details\n",
    "\n",
    "- 使用 Adam 优化器，学习率设置为0.0001；\n",
    "- 数据预处理：将每个特征归一化为0-1之间的实数；\n",
    "- 超参数：\n",
    "  - $\\lambda$ 设置为0.1；\n"
   ]
  }
 ],
 "metadata": {
  "kernelspec": {
   "display_name": "base",
   "language": "python",
   "name": "python3"
  },
  "language_info": {
   "codemirror_mode": {
    "name": "ipython",
    "version": 3
   },
   "file_extension": ".py",
   "mimetype": "text/x-python",
   "name": "python",
   "nbconvert_exporter": "python",
   "pygments_lexer": "ipython3",
   "version": "3.9.12 (main, Apr  5 2022, 01:53:17) \n[Clang 12.0.0 ]"
  },
  "vscode": {
   "interpreter": {
    "hash": "a87932926120c6dca57d15863bd780c43ae6921282476fa1d363c46120a8446c"
   }
  }
 },
 "nbformat": 4,
 "nbformat_minor": 5
}
